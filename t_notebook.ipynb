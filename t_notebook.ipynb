{
 "cells": [
  {
   "cell_type": "code",
   "execution_count": 3,
   "metadata": {},
   "outputs": [],
   "source": [
    "# Import packages ...\n",
    "from keras.preprocessing.image import img_to_array\n",
    "from numpy import *\n",
    "import argparse\n",
    "import os\n",
    "import numpy as np\n",
    "from keras.preprocessing import image\n",
    "import tensorflow as tf\n",
    "tf.get_logger().setLevel('ERROR')\n",
    "import ipywidgets as widgets"
   ]
  },
  {
   "cell_type": "code",
   "execution_count": 4,
   "metadata": {},
   "outputs": [
    {
     "output_type": "display_data",
     "data": {
      "text/plain": "Text(value='model_noun', description='model_noun:', placeholder='Type model_noun')",
      "application/vnd.jupyter.widget-view+json": {
       "version_major": 2,
       "version_minor": 0,
       "model_id": "4341cf4f283d4bcf8010ee98a8359774"
      }
     },
     "metadata": {}
    },
    {
     "output_type": "display_data",
     "data": {
      "text/plain": "Text(value='./Dataset', description='path:', placeholder='Type the path')",
      "application/vnd.jupyter.widget-view+json": {
       "version_major": 2,
       "version_minor": 0,
       "model_id": "8e9e46f7420a4b0f81978dbe142de992"
      }
     },
     "metadata": {}
    }
   ],
   "source": [
    "model_nom = widgets.Text(\n",
    "    value='model_noun',\n",
    "    placeholder='Type model_noun',\n",
    "    description='model_noun:',\n",
    "    disabled=False\n",
    ")\n",
    "\n",
    "path = widgets.Text(\n",
    "    value='./Dataset',\n",
    "    placeholder='Type the path',\n",
    "    description='path:',\n",
    "    disabled=False\n",
    ")\n",
    "\n",
    "display(model_nom)\n",
    "display(path)"
   ]
  },
  {
   "cell_type": "code",
   "execution_count": 7,
   "metadata": {},
   "outputs": [],
   "source": [
    "# L is list that contains all logos names as a string lower case  \n",
    "L = [os.listdir(\"Dataset/train/\")[i].lower()\n",
    "     for i in range(len(os.listdir(\"Dataset/train/\")))]\n",
    "class_names = sorted(L, reverse=False)"
   ]
  },
  {
   "cell_type": "code",
   "execution_count": 10,
   "metadata": {},
   "outputs": [
    {
     "output_type": "stream",
     "name": "stdout",
     "text": "<tensorflow.python.keras.engine.sequential.Sequential object at 0x147c15dd8>\n"
    }
   ],
   "source": [
    "# Affecting each args to a variable and loading the model choosing before\n",
    "model_nom, path = model_nom.value, path.value\n",
    "model = tf.keras.models.load_model(\"Models/\" + model_nom + \".h5\")\n",
    "print(model)"
   ]
  },
  {
   "cell_type": "code",
   "execution_count": 11,
   "metadata": {},
   "outputs": [],
   "source": [
    "# predicting a giving image\n",
    "img = image.load_img(path, target_size=(150, 150))\n",
    "img = np.expand_dims(img, axis=0)\n",
    "prediction = model.predict_proba(img)[0]"
   ]
  },
  {
   "cell_type": "code",
   "execution_count": 12,
   "metadata": {},
   "outputs": [
    {
     "output_type": "stream",
     "name": "stdout",
     "text": "./Dataset/train/accenture/000000204-digi.jpg,accenture,0.99998426\n./Dataset/train/accenture/000000204-digi.jpg,airbus,0.0\n./Dataset/train/accenture/000000204-digi.jpg,canon,0.0\n./Dataset/train/accenture/000000204-digi.jpg,cocacola,0.0\n./Dataset/train/accenture/000000204-digi.jpg,danone,0.0\n./Dataset/train/accenture/000000204-digi.jpg,dhl,2.592787e-34\n./Dataset/train/accenture/000000204-digi.jpg,kiabi,0.0\n./Dataset/train/accenture/000000204-digi.jpg,loreal,1.5677104e-05\n./Dataset/train/accenture/000000204-digi.jpg,orange,0.0\n./Dataset/train/accenture/000000204-digi.jpg,pwc,7.142259e-31\n"
    }
   ],
   "source": [
    "for i in range(len(prediction)):\n",
    "    print(str(path) + \",\" + str(class_names[i]) + \",\" + str(prediction[i]))"
   ]
  }
 ],
 "metadata": {
  "language_info": {
   "codemirror_mode": {
    "name": "ipython",
    "version": 3
   },
   "file_extension": ".py",
   "mimetype": "text/x-python",
   "name": "python",
   "nbconvert_exporter": "python",
   "pygments_lexer": "ipython3",
   "version": "3.7.6-final"
  },
  "orig_nbformat": 2,
  "kernelspec": {
   "name": "python3",
   "display_name": "Python 3"
  }
 },
 "nbformat": 4,
 "nbformat_minor": 2
}